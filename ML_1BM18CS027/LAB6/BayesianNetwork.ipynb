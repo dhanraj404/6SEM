{
  "nbformat": 4,
  "nbformat_minor": 0,
  "metadata": {
    "colab": {
      "name": "BayesianNetwork1.ipynb",
      "provenance": []
    },
    "kernelspec": {
      "name": "python3",
      "display_name": "Python 3"
    },
    "language_info": {
      "name": "python"
    }
  },
  "cells": [
    {
      "cell_type": "code",
      "metadata": {
        "id": "3xD-007RZLuW"
      },
      "source": [
        "import pandas as pd\n",
        "from sklearn.model_selection import train_test_split\n",
        "from sklearn.naive_bayes import GaussianNB\n",
        "from sklearn import metrics"
      ],
      "execution_count": 1,
      "outputs": []
    },
    {
      "cell_type": "code",
      "metadata": {
        "id": "IyiA68lxZ9Rd"
      },
      "source": [
        "df = pd.read_csv(\"heart.csv\")\n",
        "feature_col_names = ['age', 'sex', 'cp', 'trestbps', 'chol', 'fbs', 'restecg', 'thalach', 'exang', 'oldpeak', 'slope', 'ca', 'thal' ]\n",
        "predicted_class_names = ['Heartdisease']"
      ],
      "execution_count": 2,
      "outputs": []
    },
    {
      "cell_type": "code",
      "metadata": {
        "id": "VdgV9tjNaD4o"
      },
      "source": [
        "X = df[feature_col_names].values \n",
        "y = df[predicted_class_names].values"
      ],
      "execution_count": 3,
      "outputs": []
    },
    {
      "cell_type": "code",
      "metadata": {
        "colab": {
          "base_uri": "https://localhost:8080/"
        },
        "id": "D32gWZukcLF6",
        "outputId": "4a588742-eac3-4285-fcff-f13f53ad27c7"
      },
      "source": [
        "print(df.head)\n",
        "xtrain,xtest,ytrain,ytest=train_test_split(X,y,test_size=0.33)\n",
        "\n",
        "print ('\\n the total number of Training Data :',ytrain.shape)\n",
        "print ('\\n the total number of Test Data :',ytest.shape)"
      ],
      "execution_count": 4,
      "outputs": [
        {
          "output_type": "stream",
          "text": [
            "<bound method NDFrame.head of      age  sex  cp  trestbps  chol  ...  oldpeak  slope  ca  thal  Heartdisease\n",
            "0     63    1   1       145   233  ...      2.3      3   0     6             0\n",
            "1     67    1   4       160   286  ...      1.5      2   3     3             2\n",
            "2     67    1   4       120   229  ...      2.6      2   2     7             1\n",
            "3     37    1   3       130   250  ...      3.5      3   0     3             0\n",
            "4     41    0   2       130   204  ...      1.4      1   0     3             0\n",
            "..   ...  ...  ..       ...   ...  ...      ...    ...  ..   ...           ...\n",
            "298   45    1   1       110   264  ...      1.2      2   0     7             1\n",
            "299   68    1   4       144   193  ...      3.4      2   2     7             2\n",
            "300   57    1   4       130   131  ...      1.2      2   1     7             3\n",
            "301   57    0   2       130   236  ...      0.0      2   1     3             1\n",
            "302   38    1   3       138   175  ...      0.0      1   3     3             0\n",
            "\n",
            "[303 rows x 14 columns]>\n",
            "\n",
            " the total number of Training Data : (203, 1)\n",
            "\n",
            " the total number of Test Data : (100, 1)\n"
          ],
          "name": "stdout"
        }
      ]
    },
    {
      "cell_type": "code",
      "metadata": {
        "id": "DfaSZr9HaIxt"
      },
      "source": [
        "clf = GaussianNB().fit(xtrain,ytrain.ravel())\n",
        "predicted = clf.predict(xtest)\n",
        "predictTestData= clf.predict([[63,1,1,145,233,1,2,150,0,2.3,3,0,6]])"
      ],
      "execution_count": 5,
      "outputs": []
    },
    {
      "cell_type": "code",
      "metadata": {
        "colab": {
          "base_uri": "https://localhost:8080/"
        },
        "id": "j8856Y61ch11",
        "outputId": "4704197c-93ca-421a-af81-bfc83c84d312"
      },
      "source": [
        "print('\\n Confusion matrix')\n",
        "print(metrics.confusion_matrix(ytest,predicted))\n",
        "\n",
        "print('\\n Accuracy of the classifier is',metrics.accuracy_score(ytest,predicted))\n",
        "\n",
        "print('\\n The value of Precision', metrics.precision_score(ytest,predicted,average='weighted'))\n",
        "\n",
        "print('\\n The value of Recall', metrics.recall_score(ytest,predicted,average='weighted'))\n",
        "\n",
        "print(\"Predicted Value for individual Test Data:\", predictTestData)"
      ],
      "execution_count": 6,
      "outputs": [
        {
          "output_type": "stream",
          "text": [
            "\n",
            " Confusion matrix\n",
            "[[48  5  1  1  0]\n",
            " [ 8  4  0  3  0]\n",
            " [ 0  6  4  4  0]\n",
            " [ 0  1  6  3  1]\n",
            " [ 0  1  1  3  0]]\n",
            "\n",
            " Accuracy of the classifier is 0.59\n",
            "\n",
            " The value of Precision 0.5769607843137254\n",
            "\n",
            " The value of Recall 0.59\n",
            "Predicted Value for individual Test Data: [0]\n"
          ],
          "name": "stdout"
        }
      ]
    }
  ]
}