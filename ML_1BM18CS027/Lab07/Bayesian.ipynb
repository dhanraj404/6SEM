{
  "nbformat": 4,
  "nbformat_minor": 0,
  "metadata": {
    "colab": {
      "name": "Bayesian.ipynb",
      "provenance": [],
      "collapsed_sections": [],
      "toc_visible": true
    },
    "kernelspec": {
      "name": "python3",
      "display_name": "Python 3"
    },
    "language_info": {
      "name": "python"
    }
  },
  "cells": [
    {
      "cell_type": "code",
      "metadata": {
        "id": "56oggawUwwu2"
      },
      "source": [
        "import pandas as pd\n",
        "from sklearn.model_selection import train_test_split\n",
        "from sklearn.naive_bayes import GaussianNB\n",
        "from sklearn import metrics"
      ],
      "execution_count": null,
      "outputs": []
    },
    {
      "cell_type": "code",
      "metadata": {
        "id": "Y4x1Oi2X1ix_"
      },
      "source": [
        "df = pd.read_csv(\"abalone.csv\")\n",
        "feature_col_names = ['Length','Diameter','Height','Whole weight','Shucked weight','Viscera weight','Shell weight']\n",
        "predicted_class_names = ['Rings']"
      ],
      "execution_count": null,
      "outputs": []
    },
    {
      "cell_type": "code",
      "metadata": {
        "id": "s4EFXae83DrV"
      },
      "source": [
        "X = df[feature_col_names].values \n",
        "y = df[predicted_class_names].values "
      ],
      "execution_count": null,
      "outputs": []
    },
    {
      "cell_type": "code",
      "metadata": {
        "colab": {
          "base_uri": "https://localhost:8080/"
        },
        "id": "wb0jvyYx3FAg",
        "outputId": "1637723b-c2c4-463f-c843-87b32614087a"
      },
      "source": [
        "print(df.head)\n",
        "xtrain,xtest,ytrain,ytest=train_test_split(X,y,test_size=0.33)\n",
        "\n",
        "print ('\\n the total number of Training Data :',ytrain.shape)\n",
        "print ('\\n the total number of Test Data :',ytest.shape)"
      ],
      "execution_count": null,
      "outputs": [
        {
          "output_type": "stream",
          "text": [
            "<bound method NDFrame.head of       Length  Diameter  Height  ...  Viscera weight  Shell weight  Rings\n",
            "0      0.455     0.365   0.095  ...          0.1010        0.1500     15\n",
            "1      0.350     0.265   0.090  ...          0.0485        0.0700      7\n",
            "2      0.530     0.420   0.135  ...          0.1415        0.2100      9\n",
            "3      0.440     0.365   0.125  ...          0.1140        0.1550     10\n",
            "4      0.330     0.255   0.080  ...          0.0395        0.0550      7\n",
            "...      ...       ...     ...  ...             ...           ...    ...\n",
            "4172   0.565     0.450   0.165  ...          0.2390        0.2490     11\n",
            "4173   0.590     0.440   0.135  ...          0.2145        0.2605     10\n",
            "4174   0.600     0.475   0.205  ...          0.2875        0.3080      9\n",
            "4175   0.625     0.485   0.150  ...          0.2610        0.2960     10\n",
            "4176   0.710     0.555   0.195  ...          0.3765        0.4950     12\n",
            "\n",
            "[4177 rows x 8 columns]>\n",
            "\n",
            " the total number of Training Data : (2798, 1)\n",
            "\n",
            " the total number of Test Data : (1379, 1)\n"
          ],
          "name": "stdout"
        }
      ]
    },
    {
      "cell_type": "code",
      "metadata": {
        "id": "NqRScsgI37wD"
      },
      "source": [
        "clf = GaussianNB().fit(xtrain,ytrain.ravel())\n",
        "predicted = clf.predict(xtest)\n",
        "predictTestData= clf.predict([[0.565,0.375,0.185,0.554,0.2135,0.201,0.25]])"
      ],
      "execution_count": null,
      "outputs": []
    },
    {
      "cell_type": "code",
      "metadata": {
        "colab": {
          "base_uri": "https://localhost:8080/"
        },
        "id": "nAJxlscb4F7v",
        "outputId": "44899e03-932a-4a82-a459-201f2461b854"
      },
      "source": [
        "print('\\n Confusion matrix')\n",
        "print(metrics.confusion_matrix(ytest,predicted))\n",
        "\n",
        "print('\\n Accuracy of the classifier is',metrics.accuracy_score(ytest,predicted))\n",
        "\n",
        "print('\\n The value of Precision', metrics.precision_score(ytest,predicted,average='micro'))\n",
        "\n",
        "print('\\n The value of Recall', metrics.recall_score(ytest,predicted,average='micro'))\n",
        "\n",
        "print(\"Predicted Value for individual Test Data:\", predictTestData)"
      ],
      "execution_count": null,
      "outputs": [
        {
          "output_type": "stream",
          "text": [
            "\n",
            " Confusion matrix\n",
            "[[ 0  1  0  0  0  0  0  0  0  0  0  0  0  0  0  0  0  0  0  0  0  0  0  0]\n",
            " [ 0  7  0  0  0  0  0  0  0  0  0  0  0  0  0  0  0  0  0  0  0  0  0  0]\n",
            " [ 0  7  4  6  0  0  0  0  0  0  0  0  0  0  0  0  0  0  0  0  0  0  0  0]\n",
            " [ 0  6  7 23  6  2  0  0  0  0  0  0  0  0  0  0  0  0  0  0  0  0  0  0]\n",
            " [ 0  1  3 28 31 13  4  2  1  0  0  0  0  0  0  0  0  0  0  0  0  0  0  0]\n",
            " [ 0  0  0 19 40 50 13  4  1  2  0  0  0  0  0  0  0  0  0  0  0  0  0  0]\n",
            " [ 0  0  0  6 23 45 61 39 11  8  0  0  0  0  0  0  0  0  0  0  0  0  0  0]\n",
            " [ 0  0  0  7 15 20 53 59 21 39  0  0  0  0  0  0  0  0  0  0  0  0  0  0]\n",
            " [ 0  0  0  0  9 18 28 50 42 73  0  0  0  0  0  1  0  0  1  0  0  0  0  0]\n",
            " [ 0  0  0  1  3 11 17 41 15 74  0  0  0  0  0  0  0  0  0  0  0  1  0  0]\n",
            " [ 0  0  0  0  2  4 13 15  9 34  0  0  0  0  0  1  0  0  3  1  0  3  0  0]\n",
            " [ 0  0  0  0  2  6 11 16 11 14  0  0  0  1  0  1  0  0  1  0  0  1  0  0]\n",
            " [ 0  0  0  0  0  1  8  3  6 16  0  0  0  1  0  3  0  0  2  1  0  0  0  0]\n",
            " [ 0  0  0  0  0  1  8  4  6 11  0  0  0  0  0  1  0  0  0  0  0  0  0  0]\n",
            " [ 0  0  0  0  0  0  0  3  1  8  0  0  0  0  0  1  0  0  3  1  0  0  0  0]\n",
            " [ 0  0  0  0  0  1  1  4  3  4  0  0  0  0  0  1  0  0  1  1  0  0  0  0]\n",
            " [ 0  0  0  0  0  1  0  6  3  5  0  0  0  0  0  1  0  0  1  0  0  0  0  0]\n",
            " [ 0  0  0  0  0  0  0  7  1  4  0  0  0  1  0  0  0  0  0  1  0  0  0  0]\n",
            " [ 0  0  0  0  0  0  0  3  1  3  0  0  0  0  0  0  0  0  0  2  0  0  0  0]\n",
            " [ 0  0  0  0  0  0  0  2  1  0  0  0  0  0  0  0  0  0  2  0  0  0  0  0]\n",
            " [ 0  0  0  0  0  0  0  0  0  1  0  0  0  0  0  0  0  0  0  0  0  0  0  0]\n",
            " [ 0  0  0  0  0  0  1  0  1  0  0  0  0  0  0  0  0  0  1  0  0  0  0  0]\n",
            " [ 0  0  0  0  0  0  0  0  0  0  0  0  0  0  0  1  0  0  0  0  0  0  0  0]\n",
            " [ 0  0  0  0  0  0  0  0  0  0  0  0  0  0  0  1  0  0  1  0  0  0  0  0]]\n",
            "\n",
            " Accuracy of the classifier is 0.25525743292240755\n",
            "\n",
            " The value of Precision 0.25525743292240755\n",
            "\n",
            " The value of Recall 0.25525743292240755\n",
            "Predicted Value for individual Test Data: [9]\n"
          ],
          "name": "stdout"
        }
      ]
    }
  ]
}